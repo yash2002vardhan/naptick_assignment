{
 "cells": [
  {
   "cell_type": "code",
   "execution_count": 49,
   "metadata": {},
   "outputs": [],
   "source": [
    "import pandas as pd\n",
    "import numpy as np\n",
    "import os\n",
    "import time"
   ]
  },
  {
   "cell_type": "code",
   "execution_count": 56,
   "metadata": {},
   "outputs": [
    {
     "name": "stdout",
     "output_type": "stream",
     "text": [
      "Shape of minuteIntensitiesWide_merged.csv: (1000, 62)\n",
      "Shape of dailyActivity_merged.csv: (940, 15)\n",
      "Shape of sleepDay_merged.csv: (413, 5)\n",
      "Shape of heartrate_seconds_merged.csv: (1000, 3)\n",
      "Shape of minuteIntensitiesNarrow_merged.csv: (1000, 3)\n",
      "Shape of minuteMETsNarrow_merged.csv: (1000, 3)\n",
      "Shape of hourlySteps_merged.csv: (1000, 3)\n",
      "Shape of hourlyIntensities_merged.csv: (1000, 4)\n",
      "Shape of dailyCalories_merged.csv: (940, 3)\n",
      "Shape of hourlyCalories_merged.csv: (1000, 3)\n",
      "Shape of minuteSleep_merged.csv: (1000, 4)\n",
      "Shape of minuteCaloriesNarrow_merged.csv: (1000, 3)\n",
      "Shape of dailySteps_merged.csv: (940, 3)\n",
      "Shape of minuteCaloriesWide_merged.csv: (1000, 62)\n",
      "Shape of minuteStepsNarrow_merged.csv: (1000, 3)\n",
      "Shape of minuteStepsWide_merged.csv: (1000, 62)\n",
      "Shape of weightLogInfo_merged.csv: (67, 8)\n",
      "Shape of dailyIntensities_merged.csv: (940, 10)\n"
     ]
    }
   ],
   "source": [
    "files = os.listdir(\"datasets/Fitabase Data 4.12.16-5.12.16\")\n",
    "for file in files:\n",
    "    df = pd.read_csv(f\"datasets/Fitabase Data 4.12.16-5.12.16/{file}\")\n",
    "    try:\n",
    "        df = df.iloc[:1000, :]\n",
    "        df.to_csv(f\"datasets/Fitabase Data 4.12.16-5.12.16/{file}\", index=False)\n",
    "    except:\n",
    "        pass\n",
    "    print(f\"Shape of {file}: {df.shape}\")"
   ]
  },
  {
   "cell_type": "code",
   "execution_count": null,
   "metadata": {},
   "outputs": [],
   "source": []
  }
 ],
 "metadata": {
  "kernelspec": {
   "display_name": "venv",
   "language": "python",
   "name": "python3"
  },
  "language_info": {
   "codemirror_mode": {
    "name": "ipython",
    "version": 3
   },
   "file_extension": ".py",
   "mimetype": "text/x-python",
   "name": "python",
   "nbconvert_exporter": "python",
   "pygments_lexer": "ipython3",
   "version": "3.13.2"
  }
 },
 "nbformat": 4,
 "nbformat_minor": 2
}
